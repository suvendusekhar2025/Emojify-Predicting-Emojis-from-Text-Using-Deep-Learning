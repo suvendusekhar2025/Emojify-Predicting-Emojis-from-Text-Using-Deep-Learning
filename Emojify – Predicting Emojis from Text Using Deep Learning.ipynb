{
  "cells": [
    {
      "cell_type": "code",
      "execution_count": null,
      "metadata": {
        "id": "wjyFN-dpLNaF"
      },
      "outputs": [],
      "source": [
        "import pandas as pd\n",
        "import numpy as np\n",
        "import matplotlib.pyplot as plt\n",
        "import seaborn as sns\n",
        "from sklearn.metrics import confusion_matrix , classification_report , accuracy_score\n",
        "from sklearn.model_selection import train_test_split\n",
        "import tensorflow as tf\n",
        "from tensorflow.keras.utils import to_categorical\n",
        "from tensorflow.keras.layers import Dense , Dropout , LSTM , Input , Embedding , Bidirectional , Softmax , Dot , RepeatVector , Concatenate , BatchNormalization"
      ]
    },
    {
      "cell_type": "markdown",
      "metadata": {
        "id": "MBja4ZCCPBaQ"
      },
      "source": [
        "## Importing Data\n",
        "---"
      ]
    },
    {
      "cell_type": "code",
      "execution_count": null,
      "metadata": {
        "id": "-kcxx_uLLNaH"
      },
      "outputs": [],
      "source": [
        "TRAIN_DATA_PATH = './Dataset/Train.csv'\n",
        "TEST_DATA_PATH = './Dataset/Test.csv'\n",
        "MAPPING_EMOJIS_PATH = './Dataset/Mapping.csv'"
      ]
    },
    {
      "cell_type": "code",
      "execution_count": null,
      "metadata": {
        "id": "qMcX8KFFLNaH"
      },
      "outputs": [],
      "source": [
        "# Get emoji mappings\n",
        "emoji_mappings_data = pd.read_csv(MAPPING_EMOJIS_PATH)\n",
        "emoji_mappings_data.drop(columns = ['Unnamed: 0'], axis = 1 , inplace = True)\n",
        "emoji_mappings = emoji_mappings_data.to_dict()['emoticons']"
      ]
    },
    {
      "cell_type": "code",
      "execution_count": null,
      "metadata": {
        "colab": {
          "base_uri": "https://localhost:8080/"
        },
        "id": "WeGA0_DdLNaH",
        "outputId": "98926604-f81d-4cef-87a1-db474d839285"
      },
      "outputs": [
        {
          "name": "stdout",
          "output_type": "stream",
          "text": [
            "{0: '😜', 1: '📸', 2: '😍', 3: '😂', 4: '😉', 5: '🎄', 6: '📷', 7: '🔥', 8: '😘', 9: '❤', 10: '😁', 11: '🇺🇸', 12: '☀', 13: '✨', 14: '💙', 15: '💕', 16: '😎', 17: '😊', 18: '💜', 19: '💯'}\n"
          ]
        }
      ],
      "source": [
        "print(emoji_mappings)"
      ]
    },
    {
      "cell_type": "code",
      "execution_count": null,
      "metadata": {
        "colab": {
          "base_uri": "https://localhost:8080/",
          "height": 423
        },
        "id": "zfqWXm-qLNaI",
        "outputId": "34f543b8-e500-4b68-efb3-c5ef3f4f821a"
      },
      "outputs": [
        {
          "data": {
            "application/vnd.google.colaboratory.intrinsic+json": {
              "summary": "{\n  \"name\": \"data\",\n  \"rows\": 70000,\n  \"fields\": [\n    {\n      \"column\": \"TEXT\",\n      \"properties\": {\n        \"dtype\": \"string\",\n        \"num_unique_values\": 69832,\n        \"samples\": [\n          \"All you need is faith, trust and a little pixie dust #MagicKingdom #DisneyQuotes #PeterPan\\u2026\\n\",\n          \"@user @user @user @user hey fam\\n\",\n          \"Super Cute Pill Organizers! #ChillPill #GiftGivingSimplified #ShopLocal #CaldwellNJ \\u2026\\n\"\n        ],\n        \"semantic_type\": \"\",\n        \"description\": \"\"\n      }\n    },\n    {\n      \"column\": \"Label\",\n      \"properties\": {\n        \"dtype\": \"number\",\n        \"std\": 5,\n        \"min\": 0,\n        \"max\": 19,\n        \"num_unique_values\": 20,\n        \"samples\": [\n          0,\n          17,\n          15\n        ],\n        \"semantic_type\": \"\",\n        \"description\": \"\"\n      }\n    }\n  ]\n}",
              "type": "dataframe",
              "variable_name": "data"
            },
            "text/html": [
              "\n",
              "  <div id=\"df-784ed25d-60e6-4ff7-b325-b9d157f2e8c7\" class=\"colab-df-container\">\n",
              "    <div>\n",
              "<style scoped>\n",
              "    .dataframe tbody tr th:only-of-type {\n",
              "        vertical-align: middle;\n",
              "    }\n",
              "\n",
              "    .dataframe tbody tr th {\n",
              "        vertical-align: top;\n",
              "    }\n",
              "\n",
              "    .dataframe thead th {\n",
              "        text-align: right;\n",
              "    }\n",
              "</style>\n",
              "<table border=\"1\" class=\"dataframe\">\n",
              "  <thead>\n",
              "    <tr style=\"text-align: right;\">\n",
              "      <th></th>\n",
              "      <th>TEXT</th>\n",
              "      <th>Label</th>\n",
              "    </tr>\n",
              "  </thead>\n",
              "  <tbody>\n",
              "    <tr>\n",
              "      <th>0</th>\n",
              "      <td>Vacation wasted ! #vacation2017 #photobomb #ti...</td>\n",
              "      <td>0</td>\n",
              "    </tr>\n",
              "    <tr>\n",
              "      <th>1</th>\n",
              "      <td>Oh Wynwood, you’re so funny! : @user #Wynwood ...</td>\n",
              "      <td>1</td>\n",
              "    </tr>\n",
              "    <tr>\n",
              "      <th>2</th>\n",
              "      <td>Been friends since 7th grade. Look at us now w...</td>\n",
              "      <td>2</td>\n",
              "    </tr>\n",
              "    <tr>\n",
              "      <th>3</th>\n",
              "      <td>This is what it looks like when someone loves ...</td>\n",
              "      <td>3</td>\n",
              "    </tr>\n",
              "    <tr>\n",
              "      <th>4</th>\n",
              "      <td>RT @user this white family was invited to a Bl...</td>\n",
              "      <td>3</td>\n",
              "    </tr>\n",
              "    <tr>\n",
              "      <th>...</th>\n",
              "      <td>...</td>\n",
              "      <td>...</td>\n",
              "    </tr>\n",
              "    <tr>\n",
              "      <th>69995</th>\n",
              "      <td>Yes, I call Galina \"my Bubie\" Go follow my bea...</td>\n",
              "      <td>3</td>\n",
              "    </tr>\n",
              "    <tr>\n",
              "      <th>69996</th>\n",
              "      <td>I SEA you, Seattle @ Ballard Seafood Festival\\n</td>\n",
              "      <td>16</td>\n",
              "    </tr>\n",
              "    <tr>\n",
              "      <th>69997</th>\n",
              "      <td>If one of my daughters is wearing this and ask...</td>\n",
              "      <td>2</td>\n",
              "    </tr>\n",
              "    <tr>\n",
              "      <th>69998</th>\n",
              "      <td>Guess who whoop people on THEIR homecoming?! #...</td>\n",
              "      <td>3</td>\n",
              "    </tr>\n",
              "    <tr>\n",
              "      <th>69999</th>\n",
              "      <td>We Love you Robbie @ Heritage Memorial Cemeter...</td>\n",
              "      <td>14</td>\n",
              "    </tr>\n",
              "  </tbody>\n",
              "</table>\n",
              "<p>70000 rows × 2 columns</p>\n",
              "</div>\n",
              "    <div class=\"colab-df-buttons\">\n",
              "\n",
              "  <div class=\"colab-df-container\">\n",
              "    <button class=\"colab-df-convert\" onclick=\"convertToInteractive('df-784ed25d-60e6-4ff7-b325-b9d157f2e8c7')\"\n",
              "            title=\"Convert this dataframe to an interactive table.\"\n",
              "            style=\"display:none;\">\n",
              "\n",
              "  <svg xmlns=\"http://www.w3.org/2000/svg\" height=\"24px\" viewBox=\"0 -960 960 960\">\n",
              "    <path d=\"M120-120v-720h720v720H120Zm60-500h600v-160H180v160Zm220 220h160v-160H400v160Zm0 220h160v-160H400v160ZM180-400h160v-160H180v160Zm440 0h160v-160H620v160ZM180-180h160v-160H180v160Zm440 0h160v-160H620v160Z\"/>\n",
              "  </svg>\n",
              "    </button>\n",
              "\n",
              "  <style>\n",
              "    .colab-df-container {\n",
              "      display:flex;\n",
              "      gap: 12px;\n",
              "    }\n",
              "\n",
              "    .colab-df-convert {\n",
              "      background-color: #E8F0FE;\n",
              "      border: none;\n",
              "      border-radius: 50%;\n",
              "      cursor: pointer;\n",
              "      display: none;\n",
              "      fill: #1967D2;\n",
              "      height: 32px;\n",
              "      padding: 0 0 0 0;\n",
              "      width: 32px;\n",
              "    }\n",
              "\n",
              "    .colab-df-convert:hover {\n",
              "      background-color: #E2EBFA;\n",
              "      box-shadow: 0px 1px 2px rgba(60, 64, 67, 0.3), 0px 1px 3px 1px rgba(60, 64, 67, 0.15);\n",
              "      fill: #174EA6;\n",
              "    }\n",
              "\n",
              "    .colab-df-buttons div {\n",
              "      margin-bottom: 4px;\n",
              "    }\n",
              "\n",
              "    [theme=dark] .colab-df-convert {\n",
              "      background-color: #3B4455;\n",
              "      fill: #D2E3FC;\n",
              "    }\n",
              "\n",
              "    [theme=dark] .colab-df-convert:hover {\n",
              "      background-color: #434B5C;\n",
              "      box-shadow: 0px 1px 3px 1px rgba(0, 0, 0, 0.15);\n",
              "      filter: drop-shadow(0px 1px 2px rgba(0, 0, 0, 0.3));\n",
              "      fill: #FFFFFF;\n",
              "    }\n",
              "  </style>\n",
              "\n",
              "    <script>\n",
              "      const buttonEl =\n",
              "        document.querySelector('#df-784ed25d-60e6-4ff7-b325-b9d157f2e8c7 button.colab-df-convert');\n",
              "      buttonEl.style.display =\n",
              "        google.colab.kernel.accessAllowed ? 'block' : 'none';\n",
              "\n",
              "      async function convertToInteractive(key) {\n",
              "        const element = document.querySelector('#df-784ed25d-60e6-4ff7-b325-b9d157f2e8c7');\n",
              "        const dataTable =\n",
              "          await google.colab.kernel.invokeFunction('convertToInteractive',\n",
              "                                                    [key], {});\n",
              "        if (!dataTable) return;\n",
              "\n",
              "        const docLinkHtml = 'Like what you see? Visit the ' +\n",
              "          '<a target=\"_blank\" href=https://colab.research.google.com/notebooks/data_table.ipynb>data table notebook</a>'\n",
              "          + ' to learn more about interactive tables.';\n",
              "        element.innerHTML = '';\n",
              "        dataTable['output_type'] = 'display_data';\n",
              "        await google.colab.output.renderOutput(dataTable, element);\n",
              "        const docLink = document.createElement('div');\n",
              "        docLink.innerHTML = docLinkHtml;\n",
              "        element.appendChild(docLink);\n",
              "      }\n",
              "    </script>\n",
              "  </div>\n",
              "\n",
              "\n",
              "<div id=\"df-53865b76-75a7-4185-9307-4d42c59a1e33\">\n",
              "  <button class=\"colab-df-quickchart\" onclick=\"quickchart('df-53865b76-75a7-4185-9307-4d42c59a1e33')\"\n",
              "            title=\"Suggest charts\"\n",
              "            style=\"display:none;\">\n",
              "\n",
              "<svg xmlns=\"http://www.w3.org/2000/svg\" height=\"24px\"viewBox=\"0 0 24 24\"\n",
              "     width=\"24px\">\n",
              "    <g>\n",
              "        <path d=\"M19 3H5c-1.1 0-2 .9-2 2v14c0 1.1.9 2 2 2h14c1.1 0 2-.9 2-2V5c0-1.1-.9-2-2-2zM9 17H7v-7h2v7zm4 0h-2V7h2v10zm4 0h-2v-4h2v4z\"/>\n",
              "    </g>\n",
              "</svg>\n",
              "  </button>\n",
              "\n",
              "<style>\n",
              "  .colab-df-quickchart {\n",
              "      --bg-color: #E8F0FE;\n",
              "      --fill-color: #1967D2;\n",
              "      --hover-bg-color: #E2EBFA;\n",
              "      --hover-fill-color: #174EA6;\n",
              "      --disabled-fill-color: #AAA;\n",
              "      --disabled-bg-color: #DDD;\n",
              "  }\n",
              "\n",
              "  [theme=dark] .colab-df-quickchart {\n",
              "      --bg-color: #3B4455;\n",
              "      --fill-color: #D2E3FC;\n",
              "      --hover-bg-color: #434B5C;\n",
              "      --hover-fill-color: #FFFFFF;\n",
              "      --disabled-bg-color: #3B4455;\n",
              "      --disabled-fill-color: #666;\n",
              "  }\n",
              "\n",
              "  .colab-df-quickchart {\n",
              "    background-color: var(--bg-color);\n",
              "    border: none;\n",
              "    border-radius: 50%;\n",
              "    cursor: pointer;\n",
              "    display: none;\n",
              "    fill: var(--fill-color);\n",
              "    height: 32px;\n",
              "    padding: 0;\n",
              "    width: 32px;\n",
              "  }\n",
              "\n",
              "  .colab-df-quickchart:hover {\n",
              "    background-color: var(--hover-bg-color);\n",
              "    box-shadow: 0 1px 2px rgba(60, 64, 67, 0.3), 0 1px 3px 1px rgba(60, 64, 67, 0.15);\n",
              "    fill: var(--button-hover-fill-color);\n",
              "  }\n",
              "\n",
              "  .colab-df-quickchart-complete:disabled,\n",
              "  .colab-df-quickchart-complete:disabled:hover {\n",
              "    background-color: var(--disabled-bg-color);\n",
              "    fill: var(--disabled-fill-color);\n",
              "    box-shadow: none;\n",
              "  }\n",
              "\n",
              "  .colab-df-spinner {\n",
              "    border: 2px solid var(--fill-color);\n",
              "    border-color: transparent;\n",
              "    border-bottom-color: var(--fill-color);\n",
              "    animation:\n",
              "      spin 1s steps(1) infinite;\n",
              "  }\n",
              "\n",
              "  @keyframes spin {\n",
              "    0% {\n",
              "      border-color: transparent;\n",
              "      border-bottom-color: var(--fill-color);\n",
              "      border-left-color: var(--fill-color);\n",
              "    }\n",
              "    20% {\n",
              "      border-color: transparent;\n",
              "      border-left-color: var(--fill-color);\n",
              "      border-top-color: var(--fill-color);\n",
              "    }\n",
              "    30% {\n",
              "      border-color: transparent;\n",
              "      border-left-color: var(--fill-color);\n",
              "      border-top-color: var(--fill-color);\n",
              "      border-right-color: var(--fill-color);\n",
              "    }\n",
              "    40% {\n",
              "      border-color: transparent;\n",
              "      border-right-color: var(--fill-color);\n",
              "      border-top-color: var(--fill-color);\n",
              "    }\n",
              "    60% {\n",
              "      border-color: transparent;\n",
              "      border-right-color: var(--fill-color);\n",
              "    }\n",
              "    80% {\n",
              "      border-color: transparent;\n",
              "      border-right-color: var(--fill-color);\n",
              "      border-bottom-color: var(--fill-color);\n",
              "    }\n",
              "    90% {\n",
              "      border-color: transparent;\n",
              "      border-bottom-color: var(--fill-color);\n",
              "    }\n",
              "  }\n",
              "</style>\n",
              "\n",
              "  <script>\n",
              "    async function quickchart(key) {\n",
              "      const quickchartButtonEl =\n",
              "        document.querySelector('#' + key + ' button');\n",
              "      quickchartButtonEl.disabled = true;  // To prevent multiple clicks.\n",
              "      quickchartButtonEl.classList.add('colab-df-spinner');\n",
              "      try {\n",
              "        const charts = await google.colab.kernel.invokeFunction(\n",
              "            'suggestCharts', [key], {});\n",
              "      } catch (error) {\n",
              "        console.error('Error during call to suggestCharts:', error);\n",
              "      }\n",
              "      quickchartButtonEl.classList.remove('colab-df-spinner');\n",
              "      quickchartButtonEl.classList.add('colab-df-quickchart-complete');\n",
              "    }\n",
              "    (() => {\n",
              "      let quickchartButtonEl =\n",
              "        document.querySelector('#df-53865b76-75a7-4185-9307-4d42c59a1e33 button');\n",
              "      quickchartButtonEl.style.display =\n",
              "        google.colab.kernel.accessAllowed ? 'block' : 'none';\n",
              "    })();\n",
              "  </script>\n",
              "</div>\n",
              "\n",
              "  <div id=\"id_3d240129-d092-4b99-861f-f321447e9a83\">\n",
              "    <style>\n",
              "      .colab-df-generate {\n",
              "        background-color: #E8F0FE;\n",
              "        border: none;\n",
              "        border-radius: 50%;\n",
              "        cursor: pointer;\n",
              "        display: none;\n",
              "        fill: #1967D2;\n",
              "        height: 32px;\n",
              "        padding: 0 0 0 0;\n",
              "        width: 32px;\n",
              "      }\n",
              "\n",
              "      .colab-df-generate:hover {\n",
              "        background-color: #E2EBFA;\n",
              "        box-shadow: 0px 1px 2px rgba(60, 64, 67, 0.3), 0px 1px 3px 1px rgba(60, 64, 67, 0.15);\n",
              "        fill: #174EA6;\n",
              "      }\n",
              "\n",
              "      [theme=dark] .colab-df-generate {\n",
              "        background-color: #3B4455;\n",
              "        fill: #D2E3FC;\n",
              "      }\n",
              "\n",
              "      [theme=dark] .colab-df-generate:hover {\n",
              "        background-color: #434B5C;\n",
              "        box-shadow: 0px 1px 3px 1px rgba(0, 0, 0, 0.15);\n",
              "        filter: drop-shadow(0px 1px 2px rgba(0, 0, 0, 0.3));\n",
              "        fill: #FFFFFF;\n",
              "      }\n",
              "    </style>\n",
              "    <button class=\"colab-df-generate\" onclick=\"generateWithVariable('data')\"\n",
              "            title=\"Generate code using this dataframe.\"\n",
              "            style=\"display:none;\">\n",
              "\n",
              "  <svg xmlns=\"http://www.w3.org/2000/svg\" height=\"24px\"viewBox=\"0 0 24 24\"\n",
              "       width=\"24px\">\n",
              "    <path d=\"M7,19H8.4L18.45,9,17,7.55,7,17.6ZM5,21V16.75L18.45,3.32a2,2,0,0,1,2.83,0l1.4,1.43a1.91,1.91,0,0,1,.58,1.4,1.91,1.91,0,0,1-.58,1.4L9.25,21ZM18.45,9,17,7.55Zm-12,3A5.31,5.31,0,0,0,4.9,8.1,5.31,5.31,0,0,0,1,6.5,5.31,5.31,0,0,0,4.9,4.9,5.31,5.31,0,0,0,6.5,1,5.31,5.31,0,0,0,8.1,4.9,5.31,5.31,0,0,0,12,6.5,5.46,5.46,0,0,0,6.5,12Z\"/>\n",
              "  </svg>\n",
              "    </button>\n",
              "    <script>\n",
              "      (() => {\n",
              "      const buttonEl =\n",
              "        document.querySelector('#id_3d240129-d092-4b99-861f-f321447e9a83 button.colab-df-generate');\n",
              "      buttonEl.style.display =\n",
              "        google.colab.kernel.accessAllowed ? 'block' : 'none';\n",
              "\n",
              "      buttonEl.onclick = () => {\n",
              "        google.colab.notebook.generateWithVariable('data');\n",
              "      }\n",
              "      })();\n",
              "    </script>\n",
              "  </div>\n",
              "\n",
              "    </div>\n",
              "  </div>\n"
            ],
            "text/plain": [
              "                                                    TEXT  Label\n",
              "0      Vacation wasted ! #vacation2017 #photobomb #ti...      0\n",
              "1      Oh Wynwood, you’re so funny! : @user #Wynwood ...      1\n",
              "2      Been friends since 7th grade. Look at us now w...      2\n",
              "3      This is what it looks like when someone loves ...      3\n",
              "4      RT @user this white family was invited to a Bl...      3\n",
              "...                                                  ...    ...\n",
              "69995  Yes, I call Galina \"my Bubie\" Go follow my bea...      3\n",
              "69996    I SEA you, Seattle @ Ballard Seafood Festival\\n     16\n",
              "69997  If one of my daughters is wearing this and ask...      2\n",
              "69998  Guess who whoop people on THEIR homecoming?! #...      3\n",
              "69999  We Love you Robbie @ Heritage Memorial Cemeter...     14\n",
              "\n",
              "[70000 rows x 2 columns]"
            ]
          },
          "execution_count": 6,
          "metadata": {},
          "output_type": "execute_result"
        }
      ],
      "source": [
        "# Fetch the train data\n",
        "data = pd.read_csv(TRAIN_DATA_PATH)\n",
        "data.drop(columns = ['Unnamed: 0'] , axis = 1 , inplace = True)\n",
        "data"
      ]
    },
    {
      "cell_type": "code",
      "execution_count": null,
      "metadata": {
        "id": "aVt0VAaJLNaI"
      },
      "outputs": [],
      "source": [
        "# Fetch the Glove Vector representations from archive.zip (Run this once to extract)\n",
        "import zipfile\n",
        "import os\n",
        "\n",
        "zip_file_path = './Dataset'\n",
        "with zipfile.ZipFile(os.path.join(zip_file_path , 'archive.zip')) as file:\n",
        "    file.extractall(zip_file_path)"
      ]
    },
    {
      "cell_type": "code",
      "execution_count": null,
      "metadata": {
        "id": "97IU3QpALNaI"
      },
      "outputs": [],
      "source": [
        "GLOVEVEC_PATH = './Dataset/glove.6B.50d.txt'\n",
        "# We have 400k words and each word is represented as a 50 dimensional vector\n",
        "WORD_TO_VEC = {}\n",
        "with open(GLOVEVEC_PATH , 'rt') as file:\n",
        "    for line in file:\n",
        "        line = line.split()\n",
        "        word = line[0]\n",
        "        vector = np.array(line[1:] , dtype = np.float32)\n",
        "        WORD_TO_VEC[word] = vector"
      ]
    },
    {
      "cell_type": "code",
      "execution_count": null,
      "metadata": {
        "id": "0Opq5MaDLNaJ"
      },
      "outputs": [],
      "source": [
        "# Let's split the data into train and validation sets\n",
        "labels = data['Label']\n",
        "labels = to_categorical(labels)\n",
        "data = data['TEXT']"
      ]
    },
    {
      "cell_type": "markdown",
      "metadata": {
        "id": "8YU9IotYW3Zs"
      },
      "source": [
        "## MODEL-2\n",
        "---\n",
        "* ### Embedding Layer\n",
        "* ### LSTM based Neural Network"
      ]
    },
    {
      "cell_type": "code",
      "execution_count": null,
      "metadata": {
        "id": "zXQQgCtqUlsu"
      },
      "outputs": [],
      "source": [
        "# find the maximum length of a sentence in the train data\n",
        "max_length = max(list(map(lambda x: len(x.split()) , data))) # 34"
      ]
    },
    {
      "cell_type": "markdown",
      "metadata": {
        "id": "arlB2KgQQ1lB"
      },
      "source": [
        "> Max length is 34 . Now any sentence of `length > 34` will be truncated and any with `length < 34` will be padded with Zero vectors"
      ]
    },
    {
      "cell_type": "code",
      "execution_count": null,
      "metadata": {
        "id": "Pk7PcRygyCG7"
      },
      "outputs": [],
      "source": [
        "WORD_TO_INDICES = {}\n",
        "for ind , word in enumerate(list(WORD_TO_VEC.keys())):\n",
        "  WORD_TO_INDICES[word] = ind + 1"
      ]
    },
    {
      "cell_type": "code",
      "execution_count": null,
      "metadata": {
        "id": "yC4btKwuzZXw"
      },
      "outputs": [],
      "source": [
        "def sentence_to_indices(batch , max_length):\n",
        "  '''\n",
        "    Arguments:\n",
        "      batch : batch of data (m)\n",
        "      max_length : maximum length of sentence ~ 34\n",
        "\n",
        "    Return:\n",
        "      X : batch of data where each word is converted to indices within the vocabulory\n",
        "  '''\n",
        "\n",
        "  m = batch.shape[0]\n",
        "  X = np.zeros((m , max_length))\n",
        "\n",
        "  for i , sentence in enumerate(batch):\n",
        "    words = sentence.split()\n",
        "    j = 0\n",
        "    for word in words:\n",
        "      if word.lower() in WORD_TO_VEC.keys():\n",
        "        X[i][j] = WORD_TO_INDICES[word.lower()]\n",
        "      j += 1\n",
        "\n",
        "  return X"
      ]
    },
    {
      "cell_type": "code",
      "execution_count": null,
      "metadata": {
        "id": "vw5-gpGH3uDD"
      },
      "outputs": [],
      "source": [
        "def pretrained_embedding_layer(WORD_TO_VEC , WORD_TO_INDICES):\n",
        "  '''\n",
        "    Arguments:\n",
        "      WORD_TO_VEC : dictionary mapping words to their vector embeddings\n",
        "      WORD_TO INDICES : dictionary mapping words to their indices in the vocabulary\n",
        "\n",
        "    Return:\n",
        "      embedding_layer: pretrained embedding layer\n",
        "  '''\n",
        "  vocab_size = len(WORD_TO_VEC) + 1 # for unknown word\n",
        "  embd_size = 50\n",
        "\n",
        "  embedding_matrix = np.zeros((vocab_size , embd_size))\n",
        "\n",
        "  for word , ind in WORD_TO_INDICES.items():\n",
        "    embedding_matrix[ind , :] = WORD_TO_VEC[word]\n",
        "\n",
        "  embedding_layer = Embedding(input_dim = vocab_size , output_dim = embd_size , trainable = False)\n",
        "  embedding_layer.build((None , ))\n",
        "  embedding_layer.set_weights([embedding_matrix])\n",
        "\n",
        "  return embedding_layer"
      ]
    },
    {
      "cell_type": "code",
      "execution_count": null,
      "metadata": {
        "id": "WdkL2gfjJuXF"
      },
      "outputs": [],
      "source": [
        "def custom_model(WORD_TO_VEC , WORD_TO_INDICES , max_length):\n",
        "  '''\n",
        "    Arguments:\n",
        "      WORD_TO_VEC : dictionary mapping words to their vector embeddings\n",
        "      WORD_TO INDICES : dictionary mapping words to their indices in the vocabulary\n",
        "      max_length : maximum length of sentence ~ 34\n",
        "\n",
        "    Return:\n",
        "      model: Custom Model\n",
        "  '''\n",
        "  inputs = Input(shape = (max_length,))\n",
        "\n",
        "  embedding_layer = pretrained_embedding_layer(WORD_TO_VEC , WORD_TO_INDICES)\n",
        "  x = embedding_layer(inputs)\n",
        "\n",
        "  x = LSTM(units = 256 , return_sequences = True)(x)\n",
        "  x = Dropout(rate = 0.3)(x)\n",
        "  x = LSTM(units = 256 , return_sequences = True)(x)\n",
        "  x = Dropout(rate = 0.3)(x)\n",
        "  x = LSTM(units = 128)(x)\n",
        "  x = Dropout(rate = 0.3)(x)\n",
        "  x = Dense(64 , activation = 'relu')(x)\n",
        "  x = Dense(32 , activation = 'relu')(x)\n",
        "  outputs = Dense(units = 20 , activation = 'softmax')(x)\n",
        "\n",
        "  model = tf.keras.models.Model(inputs = inputs , outputs = outputs)\n",
        "  return model"
      ]
    },
    {
      "cell_type": "code",
      "execution_count": null,
      "metadata": {
        "id": "8WUWnxqFNakV"
      },
      "outputs": [],
      "source": [
        "model = custom_model(WORD_TO_VEC , WORD_TO_INDICES , max_length)"
      ]
    },
    {
      "cell_type": "code",
      "execution_count": null,
      "metadata": {
        "colab": {
          "base_uri": "https://localhost:8080/"
        },
        "id": "zj6Qj0uWNwHg",
        "outputId": "d1f36e37-0de1-4b68-ce31-dd5957b005f6"
      },
      "outputs": [
        {
          "name": "stdout",
          "output_type": "stream",
          "text": [
            "Model: \"model_16\"\n",
            "_________________________________________________________________\n",
            " Layer (type)                Output Shape              Param #   \n",
            "=================================================================\n",
            " input_21 (InputLayer)       [(None, 34)]              0         \n",
            "                                                                 \n",
            " embedding_19 (Embedding)    (None, 34, 50)            20000050  \n",
            "                                                                 \n",
            " lstm_51 (LSTM)              (None, 34, 256)           314368    \n",
            "                                                                 \n",
            " dropout_31 (Dropout)        (None, 34, 256)           0         \n",
            "                                                                 \n",
            " lstm_52 (LSTM)              (None, 34, 256)           525312    \n",
            "                                                                 \n",
            " dropout_32 (Dropout)        (None, 34, 256)           0         \n",
            "                                                                 \n",
            " lstm_53 (LSTM)              (None, 128)               197120    \n",
            "                                                                 \n",
            " dropout_33 (Dropout)        (None, 128)               0         \n",
            "                                                                 \n",
            " dense_45 (Dense)            (None, 64)                8256      \n",
            "                                                                 \n",
            " dense_46 (Dense)            (None, 32)                2080      \n",
            "                                                                 \n",
            " dense_47 (Dense)            (None, 20)                660       \n",
            "                                                                 \n",
            "=================================================================\n",
            "Total params: 21047846 (80.29 MB)\n",
            "Trainable params: 1047796 (4.00 MB)\n",
            "Non-trainable params: 20000050 (76.29 MB)\n",
            "_________________________________________________________________\n"
          ]
        }
      ],
      "source": [
        "model.summary()"
      ]
    },
    {
      "cell_type": "code",
      "execution_count": null,
      "metadata": {
        "id": "QwpvP_tcOQqM"
      },
      "outputs": [],
      "source": [
        "x_train , x_val , y_train , y_val = train_test_split(data, labels, test_size = 0.2 , shuffle = True)\n",
        "x_train , x_test , y_train , y_test = train_test_split(x_train , y_train , test_size = 0.1 , shuffle = True)"
      ]
    },
    {
      "cell_type": "code",
      "execution_count": null,
      "metadata": {
        "id": "QK3kV8qFOYgT"
      },
      "outputs": [],
      "source": [
        "x_train = sentence_to_indices(x_train , max_length)\n",
        "x_val = sentence_to_indices(x_val , max_length)"
      ]
    },
    {
      "cell_type": "code",
      "execution_count": null,
      "metadata": {
        "colab": {
          "base_uri": "https://localhost:8080/"
        },
        "id": "kypeJsuIOz_a",
        "outputId": "21ad5095-01ba-4b87-f450-b4584b3d2961"
      },
      "outputs": [
        {
          "name": "stdout",
          "output_type": "stream",
          "text": [
            "Epoch 1/100\n",
            "394/394 [==============================] - 75s 176ms/step - loss: 0.4278 - accuracy: 0.8825 - val_loss: 0.5018 - val_accuracy: 0.8682\n",
            "Epoch 2/100\n",
            "394/394 [==============================] - 7s 18ms/step - loss: 0.3210 - accuracy: 0.9090 - val_loss: 0.4407 - val_accuracy: 0.8869\n",
            "Epoch 3/100\n",
            "394/394 [==============================] - 9s 23ms/step - loss: 0.2876 - accuracy: 0.9169 - val_loss: 0.4124 - val_accuracy: 0.8940\n",
            "Epoch 4/100\n",
            "394/394 [==============================] - 7s 19ms/step - loss: 0.2622 - accuracy: 0.9226 - val_loss: 0.3857 - val_accuracy: 0.9034\n",
            "Epoch 5/100\n",
            "394/394 [==============================] - 8s 19ms/step - loss: 0.2500 - accuracy: 0.9266 - val_loss: 0.3654 - val_accuracy: 0.9038\n",
            "Epoch 6/100\n",
            "394/394 [==============================] - 7s 19ms/step - loss: 0.2376 - accuracy: 0.9296 - val_loss: 0.3555 - val_accuracy: 0.9121\n",
            "Epoch 7/100\n",
            "394/394 [==============================] - 8s 20ms/step - loss: 0.2308 - accuracy: 0.9307 - val_loss: 0.3719 - val_accuracy: 0.9073\n",
            "Epoch 8/100\n",
            "394/394 [==============================] - 7s 19ms/step - loss: 0.2205 - accuracy: 0.9342 - val_loss: 0.3664 - val_accuracy: 0.9089\n",
            "Epoch 9/100\n",
            "394/394 [==============================] - 7s 19ms/step - loss: 0.2133 - accuracy: 0.9360 - val_loss: 0.3652 - val_accuracy: 0.9091\n",
            "Epoch 10/100\n",
            "394/394 [==============================] - 9s 22ms/step - loss: 0.2174 - accuracy: 0.9350 - val_loss: 0.3692 - val_accuracy: 0.9082\n",
            "Epoch 11/100\n",
            "394/394 [==============================] - 7s 18ms/step - loss: 0.2151 - accuracy: 0.9358 - val_loss: 0.3820 - val_accuracy: 0.9078\n",
            "Epoch 12/100\n",
            "394/394 [==============================] - 8s 19ms/step - loss: 0.2109 - accuracy: 0.9377 - val_loss: 0.3740 - val_accuracy: 0.9094\n",
            "Epoch 13/100\n",
            "394/394 [==============================] - 7s 18ms/step - loss: 0.2063 - accuracy: 0.9368 - val_loss: 0.3779 - val_accuracy: 0.9095\n",
            "Epoch 14/100\n",
            "394/394 [==============================] - 8s 19ms/step - loss: 0.1998 - accuracy: 0.9406 - val_loss: 0.3900 - val_accuracy: 0.9082\n",
            "Epoch 15/100\n",
            "394/394 [==============================] - 7s 18ms/step - loss: 0.1915 - accuracy: 0.9425 - val_loss: 0.3793 - val_accuracy: 0.9089\n",
            "Epoch 16/100\n",
            "394/394 [==============================] - 8s 19ms/step - loss: 0.1982 - accuracy: 0.9414 - val_loss: 0.4092 - val_accuracy: 0.9029\n"
          ]
        }
      ],
      "source": [
        "EPOCHS = 100\n",
        "BATCH_SIZE = 128\n",
        "\n",
        "EarlyStopping = tf.keras.callbacks.EarlyStopping(patience = 10)\n",
        "model.compile(loss = 'categorical_crossentropy' , optimizer = 'Adam' , metrics = ['accuracy'])\n",
        "history = model.fit(x_train , y_train , validation_data = [x_val , y_val] , validation_batch_size = 64 ,batch_size = BATCH_SIZE , epochs = EPOCHS , callbacks = [EarlyStopping])"
      ]
    },
    {
      "cell_type": "code",
      "execution_count": null,
      "metadata": {
        "colab": {
          "base_uri": "https://localhost:8080/",
          "height": 452
        },
        "id": "s2U0J6OZPN0F",
        "outputId": "2805dd69-7323-4133-b7be-7c81cd034f4d"
      },
      "outputs": [
        {
          "data": {
            "image/png": "[encoded data removed]",
            "text/plain": [
              "<Figure size 640x480 with 1 Axes>"
            ]
          },
          "metadata": {},
          "output_type": "display_data"
        }
      ],
      "source": [
        "ax = pd.DataFrame(history.history).plot()\n",
        "fig = ax.get_figure()\n",
        "ax.set_title('Final Performance of the Model')\n",
        "fig.savefig('Final_performance')"
      ]
    },
    {
      "cell_type": "code",
      "execution_count": null,
      "metadata": {
        "id": "VV9PoBXmq1Mw"
      },
      "outputs": [],
      "source": [
        "model.save('Lstm_model2.keras')"
      ]
    },
    {
      "cell_type": "markdown",
      "metadata": {
        "id": "Gp9jYmdURX_3"
      },
      "source": [
        "## Saving the Model and Analysing its performance"
      ]
    },
    {
      "cell_type": "code",
      "execution_count": null,
      "metadata": {
        "id": "NM-bPpKZ_rB0"
      },
      "outputs": [],
      "source": [
        "MODEL = tf.keras.models.load_model('./model2/Lstm_model2.keras')"
      ]
    },
    {
      "cell_type": "code",
      "execution_count": null,
      "metadata": {
        "id": "M_h9Wmht34c2"
      },
      "outputs": [],
      "source": [
        "# Now lets take max of the prediction and compare , For which run\n",
        "def get_predictions(MODEL , x):\n",
        "  prediction = MODEL.predict(x)\n",
        "  prediction = np.argmax(prediction , axis = 1)\n",
        "  return prediction"
      ]
    },
    {
      "cell_type": "code",
      "execution_count": null,
      "metadata": {
        "id": "8QTQudv-rSwi"
      },
      "outputs": [],
      "source": [
        "original = np.argmax(y_test , axis = 1)\n",
        "prediction = get_predictions(MODEL , sentence_to_indices(x_test , max_length))\n",
        "report = classification_report(original , prediction)"
      ]
    },
    {
      "cell_type": "code",
      "execution_count": null,
      "metadata": {
        "colab": {
          "base_uri": "https://localhost:8080/"
        },
        "id": "4l1tb9Am5Gmd",
        "outputId": "122d5d69-909c-474c-a92a-199b81373c63"
      },
      "outputs": [
        {
          "name": "stdout",
          "output_type": "stream",
          "text": [
            "\t\t\t Classification Report \n",
            "--------------------------------------------------------------------------------\n",
            "              precision    recall  f1-score   support\n",
            "\n",
            "           0       0.90      0.90      0.90       119\n",
            "           1       0.91      0.92      0.91       216\n",
            "           2       0.90      0.93      0.91       580\n",
            "           3       0.96      0.93      0.95       545\n",
            "           4       0.95      0.91      0.93       175\n",
            "           5       0.91      0.97      0.94       150\n",
            "           6       0.92      0.91      0.91       175\n",
            "           7       0.95      0.93      0.94       329\n",
            "           8       0.98      0.87      0.92       177\n",
            "           9       0.93      0.95      0.94      1165\n",
            "          10       0.89      0.94      0.92       163\n",
            "          11       0.91      0.90      0.91       191\n",
            "          12       0.92      0.93      0.93       151\n",
            "          13       0.94      0.96      0.95       259\n",
            "          14       0.93      0.90      0.91       200\n",
            "          15       0.92      0.94      0.93       295\n",
            "          16       0.92      0.90      0.91       219\n",
            "          17       0.90      0.90      0.90       204\n",
            "          18       0.93      0.91      0.92       139\n",
            "          19       0.95      0.93      0.94       148\n",
            "\n",
            "    accuracy                           0.93      5600\n",
            "   macro avg       0.93      0.92      0.92      5600\n",
            "weighted avg       0.93      0.93      0.93      5600\n",
            "\n"
          ]
        }
      ],
      "source": [
        "print('\\t\\t\\t Classification Report \\n' + '--'*40)\n",
        "print(report)"
      ]
    },
    {
      "cell_type": "code",
      "execution_count": null,
      "metadata": {
        "colab": {
          "base_uri": "https://localhost:8080/",
          "height": 1000
        },
        "id": "dMpKEqUvA5ul",
        "outputId": "8fe75c1a-cea6-4753-cdbc-7c87c848ff2e"
      },
      "outputs": [
        {
          "data": {
            "image/png": "[encoded data removed]",
            "text/plain": [
              "<Figure size 1000x1000 with 2 Axes>"
            ]
          },
          "metadata": {},
          "output_type": "display_data"
        }
      ],
      "source": [
        "mat = confusion_matrix(original , prediction)\n",
        "plt.figure(figsize = (10 , 10))\n",
        "sns.heatmap(mat , annot = True ,fmt = 'd', cmap = 'Blues')\n",
        "plt.xlabel('Predictions')\n",
        "plt.ylabel('Actual')\n",
        "plt.title('Confusion Matrix')\n",
        "plt.tight_layout(h_pad = .5 , w_pad = .5)\n",
        "plt.savefig('Confusion_matrix')"
      ]
    },
    {
      "cell_type": "code",
      "execution_count": null,
      "metadata": {
        "colab": {
          "base_uri": "https://localhost:8080/"
        },
        "id": "8fBqfZzDHGO0",
        "outputId": "3db56625-942b-40dc-bc22-c686463f071b"
      },
      "outputs": [
        {
          "data": {
            "text/plain": [
              "('❤', '😍')"
            ]
          },
          "execution_count": 69,
          "metadata": {},
          "output_type": "execute_result"
        }
      ],
      "source": [
        "emoji_mappings[9] , emoji_mappings[2]\n",
        "# There is mis-prediction in these classes as they are used for quite similar purpose"
      ]
    },
    {
      "cell_type": "code",
      "execution_count": null,
      "metadata": {
        "colab": {
          "base_uri": "https://localhost:8080/"
        },
        "id": "NWy6N0PAEyqq",
        "outputId": "371de3e8-3b3b-433b-cac7-756ca534d05e"
      },
      "outputs": [
        {
          "name": "stdout",
          "output_type": "stream",
          "text": [
            "1575/1575 [==============================] - 152s 97ms/step\n",
            "The train accuracy of the model is : 0.9342063492063492\n",
            "The test accuracy of the model is : 0.9276785714285715\n"
          ]
        }
      ],
      "source": [
        "train_prediction = get_predictions(MODEL , x_train)\n",
        "train_original = np.argmax(y_train , axis = 1)\n",
        "print(f'The train accuracy of the model is : {accuracy_score(train_original , train_prediction)}')\n",
        "print(f'The test accuracy of the model is : {accuracy_score(original , prediction)}')"
      ]
    },
    {
      "cell_type": "code",
      "execution_count": null,
      "metadata": {
        "id": "pqPEzQBjHoMH"
      },
      "outputs": [],
      "source": [
        "# Lets try it out over some unknown test_sentences\n",
        "unknown_data = pd.read_csv(TEST_DATA_PATH)\n",
        "unknown_sentences = unknown_data['TEXT']\n",
        "total_examples = len(unknown_sentences)"
      ]
    },
    {
      "cell_type": "code",
      "execution_count": null,
      "metadata": {
        "colab": {
          "base_uri": "https://localhost:8080/"
        },
        "id": "Gs0Bq4CsI2l8",
        "outputId": "3d79b65a-a3a6-46c6-e972-9ea0c7d09719"
      },
      "outputs": [
        {
          "name": "stdout",
          "output_type": "stream",
          "text": [
            "1/1 [==============================] - 0s 92ms/step\n",
            "----------------------------------------\n",
            "I love the smell of pate sucree in the evening. @ Desserts To Die For\n",
            " : 😘\n",
            "Feel free to be alive #SantaBarbara #DanishVillage #LosAngeles #California #CarShow @ Santa…\n",
            " : 🇺🇸\n",
            "This is about take 15 in 20 mins #festivaloflights with these babes…\n",
            " : ✨\n",
            "Adventuring in Yosemite. #yosemitenationalpark #throwback : edgarsirr @ Yosemite National Park\n",
            " : 📸\n",
            "A kiss for the love of my life @user and I played New love interests on a project for…\n",
            " : ❤\n",
            "It's gonna be a good night! What a great way to start my birthday month!! Finally I'm…\n",
            " : 😊\n",
            "Das Love ️ goodamerican @ Smashbox Studios\n",
            " : 💕\n",
            "This is only the beginning #1month ️ @ Miami Design District\n",
            " : ✨\n",
            "️ ️ ️ MEETING ON CAPITOL HILL TODAY ️ ️ ️ ️ #hahaPaper #PresidentialPaper #CongressmanPaper @user\n",
            " : 🇺🇸\n",
            "Having both my boys home = Love ️ @user natecroley @ Pigeon…\n",
            " : ❤\n"
          ]
        }
      ],
      "source": [
        "indices = np.random.choice(total_examples , size = 10)\n",
        "test_examples = unknown_sentences.iloc[indices].to_numpy()\n",
        "\n",
        "test_examples = sentence_to_indices(test_examples , max_length)\n",
        "predictions = np.argmax(MODEL.predict(test_examples) , axis = 1)\n",
        "\n",
        "print('--'*20)\n",
        "for i , sentence in enumerate(unknown_sentences.iloc[indices]):\n",
        "  print(f\"{sentence} : {emoji_mappings[predictions[i]]}\")"
      ]
    }
  ],
  "metadata": {
    "colab": {
      "collapsed_sections": [
        "ryq8I5AfPWPk",
        "8YU9IotYW3Zs",
        "Gp9jYmdURX_3"
      ],
      "provenance": []
    },
    "kernelspec": {
      "display_name": "Python 3",
      "name": "python3"
    },
    "language_info": {
      "codemirror_mode": {
        "name": "ipython",
        "version": 3
      },
      "file_extension": ".py",
      "mimetype": "text/x-python",
      "name": "python",
      "nbconvert_exporter": "python",
      "pygments_lexer": "ipython3",
      "version": "3.12.1"
    }
  },
  "nbformat": 4,
  "nbformat_minor": 0
}